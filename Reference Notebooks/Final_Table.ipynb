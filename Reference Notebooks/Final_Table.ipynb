{
  "nbformat": 4,
  "nbformat_minor": 0,
  "metadata": {
    "colab": {
      "name": "Final_Table.ipynb",
      "provenance": [],
      "authorship_tag": "ABX9TyP45mQtnQ8+XEpEMUw/25Mi",
      "include_colab_link": true
    },
    "kernelspec": {
      "name": "python3",
      "display_name": "Python 3"
    }
  },
  "cells": [
    {
      "cell_type": "markdown",
      "metadata": {
        "id": "view-in-github",
        "colab_type": "text"
      },
      "source": [
        "<a href=\"https://colab.research.google.com/github/villafue/Capstone_1-_Predict_House_Prices/blob/master/Reference%20Notebooks/Final_Table.ipynb\" target=\"_parent\"><img src=\"https://colab.research.google.com/assets/colab-badge.svg\" alt=\"Open In Colab\"/></a>"
      ]
    },
    {
      "cell_type": "code",
      "metadata": {
        "id": "k3pEqlKKa5Ux"
      },
      "source": [
        ""
      ],
      "execution_count": null,
      "outputs": []
    },
    {
      "cell_type": "code",
      "metadata": {
        "colab": {
          "base_uri": "https://localhost:8080/",
          "height": 452
        },
        "id": "m6BS8o9UPPl2",
        "outputId": "6c855d51-6f38-4046-b289-379f67cabab6"
      },
      "source": [
        "#Machine Learning Algorithm (MLA) Selection and Initialization\r\n",
        "dt = DecisionTreeRegressor(max_depth=3, max_features='log2')\r\n",
        "models = [LinearRegression(),\r\n",
        "          Ridge(alpha=0.03727272727272728, normalize=True, random_state=29), \r\n",
        "          Lasso(alpha=0.0001, random_state=29), \r\n",
        "          ElasticNet(alpha=0.001, l1_ratio=0.1, random_state=29), \r\n",
        "          RandomForestRegressor(n_estimators=200, random_state=29), \r\n",
        "          AdaBoostRegressor(base_estimator=dt, n_estimators=200, learning_rate=0.20, random_state=29), \r\n",
        "          GradientBoostingRegressor(alpha=0.7, learning_rate=0.08, max_depth=1, min_samples_split=25, \r\n",
        "                                    min_samples_leaf=10, n_estimators=2000, random_state=29),\r\n",
        "          xgb.XGBRegressor(base_score=0.5, booster='gbtree', colsample_bylevel=1, colsample_bynode=1, \r\n",
        "                           colsample_bytree=0.45, gamma=0.03, importance_type='gain', learning_rate=0.01, \r\n",
        "                           max_delta_step=0, max_depth=3, max_samples=0.2, min_child_weight=1, missing=None, \r\n",
        "                           n_estimators=2000, n_jobs=1, nthread=None, objective='reg:squarederror', random_state=29, \r\n",
        "                           reg_alpha=0.08, reg_lambda=0.04, scale_pos_weight=1, seed=None, silent=None, \r\n",
        "                           subsample=0.12)]\r\n",
        "\r\n",
        "# First I will use ShuffleSplit as a way of randomising the cross validation samples.\r\n",
        "shuff = ShuffleSplit(n_splits=5, test_size=0.2, random_state=29)\r\n",
        "\r\n",
        "#create table to compare MLA metrics\r\n",
        "columns = ['Name', 'Parameters', 'Train Accuracy Mean', 'Test Accuracy']\r\n",
        "final_model_compare = pd.DataFrame(columns = columns)\r\n",
        "\r\n",
        "#index through models and save performance to table\r\n",
        "row_index = 0\r\n",
        "for alg in models:\r\n",
        "\r\n",
        "    #set name and parameters\r\n",
        "    model_name = alg.__class__.__name__\r\n",
        "    final_model_compare.loc[row_index, 'Name'] = model_name\r\n",
        "    final_model_compare.loc[row_index, 'Parameters'] = str(alg.get_params())\r\n",
        "    \r\n",
        "    alg.fit(X_train, Y_train)\r\n",
        "    \r\n",
        "    #score model with cross validation: http://scikit-learn.org/stable/modules/generated/sklearn.model_selection.cross_validate.html#sklearn.model_selection.cross_validate\r\n",
        "    training_results = np.sqrt((-cross_val_score(alg, X_train, Y_train, cv = shuff, scoring= 'neg_mean_squared_error')).mean())\r\n",
        "    test_results = np.sqrt(((Y_test-alg.predict(X_test))**2).mean())\r\n",
        "    \r\n",
        "    final_model_compare.loc[row_index, 'Train Accuracy Mean'] = (training_results)\r\n",
        "    final_model_compare.loc[row_index, 'Test Accuracy'] = (test_results)\r\n",
        "    \r\n",
        "    row_index+=1\r\n",
        "    print(row_index, alg.__class__.__name__, 'trained...')\r\n",
        "\r\n",
        "decimals = 4\r\n",
        "final_model_compare['Train Accuracy Mean'] = final_model_compare['Train Accuracy Mean'].apply(lambda x: round(x, decimals))\r\n",
        "final_model_compare['Test Accuracy'] = final_model_compare['Test Accuracy'].apply(lambda x: round(x, decimals))\r\n",
        "print('\\n', '-' * 136)\r\n",
        "final_model_compare\r\n",
        "print('\\n', '-' * 136)"
      ],
      "execution_count": null,
      "outputs": [
        {
          "output_type": "stream",
          "text": [
            "1 LinearRegression trained...\n",
            "2 Ridge trained...\n",
            "3 Lasso trained...\n",
            "4 ElasticNet trained...\n",
            "5 RandomForestRegressor trained...\n",
            "6 AdaBoostRegressor trained...\n",
            "7 GradientBoostingRegressor trained...\n",
            "8 XGBRegressor trained...\n",
            "\n",
            " ----------------------------------------------------------------------------------------------------------------------------------------\n"
          ],
          "name": "stdout"
        },
        {
          "output_type": "execute_result",
          "data": {
            "text/html": [
              "<div>\n",
              "<style scoped>\n",
              "    .dataframe tbody tr th:only-of-type {\n",
              "        vertical-align: middle;\n",
              "    }\n",
              "\n",
              "    .dataframe tbody tr th {\n",
              "        vertical-align: top;\n",
              "    }\n",
              "\n",
              "    .dataframe thead th {\n",
              "        text-align: right;\n",
              "    }\n",
              "</style>\n",
              "<table border=\"1\" class=\"dataframe\">\n",
              "  <thead>\n",
              "    <tr style=\"text-align: right;\">\n",
              "      <th></th>\n",
              "      <th>Name</th>\n",
              "      <th>Parameters</th>\n",
              "      <th>Train Accuracy Mean</th>\n",
              "      <th>Test Accuracy</th>\n",
              "    </tr>\n",
              "  </thead>\n",
              "  <tbody>\n",
              "    <tr>\n",
              "      <th>0</th>\n",
              "      <td>LinearRegression</td>\n",
              "      <td>{'copy_X': True, 'fit_intercept': True, 'n_job...</td>\n",
              "      <td>0.1121</td>\n",
              "      <td>0.1194</td>\n",
              "    </tr>\n",
              "    <tr>\n",
              "      <th>1</th>\n",
              "      <td>Ridge</td>\n",
              "      <td>{'alpha': 0.03727272727272728, 'copy_X': True,...</td>\n",
              "      <td>0.1117</td>\n",
              "      <td>0.1201</td>\n",
              "    </tr>\n",
              "    <tr>\n",
              "      <th>2</th>\n",
              "      <td>Lasso</td>\n",
              "      <td>{'alpha': 0.0001, 'copy_X': True, 'fit_interce...</td>\n",
              "      <td>0.1118</td>\n",
              "      <td>0.1200</td>\n",
              "    </tr>\n",
              "    <tr>\n",
              "      <th>3</th>\n",
              "      <td>ElasticNet</td>\n",
              "      <td>{'alpha': 0.001, 'copy_X': True, 'fit_intercep...</td>\n",
              "      <td>0.1118</td>\n",
              "      <td>0.1215</td>\n",
              "    </tr>\n",
              "    <tr>\n",
              "      <th>4</th>\n",
              "      <td>RandomForestRegressor</td>\n",
              "      <td>{'bootstrap': True, 'ccp_alpha': 0.0, 'criteri...</td>\n",
              "      <td>0.1353</td>\n",
              "      <td>0.1462</td>\n",
              "    </tr>\n",
              "    <tr>\n",
              "      <th>5</th>\n",
              "      <td>AdaBoostRegressor</td>\n",
              "      <td>{'base_estimator__ccp_alpha': 0.0, 'base_estim...</td>\n",
              "      <td>0.1607</td>\n",
              "      <td>0.1703</td>\n",
              "    </tr>\n",
              "    <tr>\n",
              "      <th>6</th>\n",
              "      <td>GradientBoostingRegressor</td>\n",
              "      <td>{'alpha': 0.7, 'ccp_alpha': 0.0, 'criterion': ...</td>\n",
              "      <td>0.1145</td>\n",
              "      <td>0.1261</td>\n",
              "    </tr>\n",
              "    <tr>\n",
              "      <th>7</th>\n",
              "      <td>XGBRegressor</td>\n",
              "      <td>{'base_score': 0.5, 'booster': 'gbtree', 'cols...</td>\n",
              "      <td>0.1122</td>\n",
              "      <td>0.1189</td>\n",
              "    </tr>\n",
              "  </tbody>\n",
              "</table>\n",
              "</div>"
            ],
            "text/plain": [
              "                        Name  \\\n",
              "0           LinearRegression   \n",
              "1                      Ridge   \n",
              "2                      Lasso   \n",
              "3                 ElasticNet   \n",
              "4      RandomForestRegressor   \n",
              "5          AdaBoostRegressor   \n",
              "6  GradientBoostingRegressor   \n",
              "7               XGBRegressor   \n",
              "\n",
              "                                          Parameters  Train Accuracy Mean  \\\n",
              "0  {'copy_X': True, 'fit_intercept': True, 'n_job...               0.1121   \n",
              "1  {'alpha': 0.03727272727272728, 'copy_X': True,...               0.1117   \n",
              "2  {'alpha': 0.0001, 'copy_X': True, 'fit_interce...               0.1118   \n",
              "3  {'alpha': 0.001, 'copy_X': True, 'fit_intercep...               0.1118   \n",
              "4  {'bootstrap': True, 'ccp_alpha': 0.0, 'criteri...               0.1353   \n",
              "5  {'base_estimator__ccp_alpha': 0.0, 'base_estim...               0.1607   \n",
              "6  {'alpha': 0.7, 'ccp_alpha': 0.0, 'criterion': ...               0.1145   \n",
              "7  {'base_score': 0.5, 'booster': 'gbtree', 'cols...               0.1122   \n",
              "\n",
              "   Test Accuracy  \n",
              "0         0.1194  \n",
              "1         0.1201  \n",
              "2         0.1200  \n",
              "3         0.1215  \n",
              "4         0.1462  \n",
              "5         0.1703  \n",
              "6         0.1261  \n",
              "7         0.1189  "
            ]
          },
          "metadata": {
            "tags": []
          },
          "execution_count": 213
        }
      ]
    },
    {
      "cell_type": "code",
      "metadata": {
        "id": "LXiHty1va8jG"
      },
      "source": [
        ""
      ],
      "execution_count": null,
      "outputs": []
    },
    {
      "cell_type": "code",
      "metadata": {
        "id": "jYT12BH-e3xL",
        "colab": {
          "base_uri": "https://localhost:8080/"
        },
        "outputId": "c7c940ee-3f20-4def-c7e8-26a18bf57290"
      },
      "source": [
        "dr = DummyRegressor()\r\n",
        "dr.fit(X_train, Y_train)\r\n",
        "dr.score(X_test, Y_test)\r\n",
        "training_results = np.sqrt((-cross_val_score(dr, X_train, Y_train, cv = 5, scoring= 'neg_mean_squared_error')).mean())\r\n",
        "test_results = np.sqrt(((Y_test-dr.predict(X_test))**2).mean())\r\n",
        "print('The training RMSE is: {:.4f}'.format(training_results))\r\n",
        "print('The testing RMSE is: {:.4f}'.format(test_results))"
      ],
      "execution_count": null,
      "outputs": [
        {
          "output_type": "stream",
          "text": [
            "The training RMSE is: 0.3859\n",
            "The testing RMSE is: 0.4188\n"
          ],
          "name": "stdout"
        }
      ]
    },
    {
      "cell_type": "code",
      "metadata": {
        "colab": {
          "base_uri": "https://localhost:8080/"
        },
        "id": "Tuji6uGk5tOG",
        "outputId": "0bf65a46-dcc1-4a60-dbbf-86a71b7b0ef1"
      },
      "source": [
        "# Import StackingRegressor\r\n",
        "from sklearn.ensemble import StackingRegressor\r\n",
        "from sklearn.linear_model import RidgeCV\r\n",
        "\r\n",
        "dt = DecisionTreeRegressor(max_depth=3, max_features='log2')\r\n",
        "estimators = [('lr', LinearRegression()),\r\n",
        "              ('ridge', Ridge(alpha=0.03727272727272728, normalize=True, random_state=29)),\r\n",
        "              ('lasso', Lasso(alpha=0.0001, random_state=29)),\r\n",
        "              ('eln', ElasticNet(alpha=0.001, l1_ratio=0.1, random_state=29)),\r\n",
        "              ('rf', RandomForestRegressor(n_estimators=200, random_state=29)),\r\n",
        "              ('ada', AdaBoostRegressor(base_estimator=dt, n_estimators=200, learning_rate=0.20,\r\n",
        "                                        random_state=29)),\r\n",
        "              ('gbr', GradientBoostingRegressor(alpha=0.7, learning_rate=0.08, max_depth=1, \r\n",
        "                                                min_samples_split=25, min_samples_leaf=10, \r\n",
        "                                                n_estimators=2000, random_state=29)),\r\n",
        "              ('xgb', xgb.XGBRegressor(base_score=0.5, booster='gbtree', colsample_bylevel=1, \r\n",
        "                                       colsample_bynode=1, colsample_bytree=0.45, gamma=0.03, \r\n",
        "                                       importance_type='gain', learning_rate=0.01, max_delta_step=0, \r\n",
        "                                       max_depth=3, max_samples=0.2, min_child_weight=1, missing=None, \r\n",
        "                                       n_estimators=2000, n_jobs=1, nthread=None, objective='reg:squarederror', \r\n",
        "                                       random_state=29, reg_alpha=0.08, reg_lambda=0.04, scale_pos_weight=1, \r\n",
        "                                       seed=None, silent=None, subsample=0.12)) \r\n",
        "]\r\n",
        "\r\n",
        "# Instantiate StackingRegressor\r\n",
        "reg5 = StackingRegressor(estimators=estimators, verbose=2, passthrough=True, n_jobs=-1)\r\n",
        "\r\n",
        "reg5.fit(X_train, Y_train)\r\n",
        "\r\n",
        "training_results = np.sqrt((-cross_val_score(reg5, X_train, Y_train, cv = 5, scoring= 'neg_mean_squared_error')).mean())\r\n",
        "test_results = np.sqrt(((Y_test-reg5.predict(X_test))**2).mean())\r\n",
        "print('\\n', '-' * 136)\r\n",
        "print('The training RMSE is: {:.4f}'.format(training_results))\r\n",
        "print('The testing RMSE is: {:.4f}'.format(test_results))"
      ],
      "execution_count": null,
      "outputs": [
        {
          "output_type": "stream",
          "text": [
            "\n",
            " ----------------------------------------------------------------------------------------------------------------------------------------\n",
            "The training RMSE is: 0.1127\n",
            "The testing RMSE is: 0.1164\n"
          ],
          "name": "stdout"
        }
      ]
    },
    {
      "cell_type": "code",
      "metadata": {
        "id": "AHJCA3Cjd65x"
      },
      "source": [
        "import pandas as pd"
      ],
      "execution_count": 1,
      "outputs": []
    },
    {
      "cell_type": "code",
      "metadata": {
        "colab": {
          "base_uri": "https://localhost:8080/",
          "height": 166
        },
        "id": "E4oLIr9Fcpnh",
        "outputId": "b0f31ee4-b816-4e4f-be23-00d62e801a5c"
      },
      "source": [
        "fin_tabl = {'Model': ['Dummy Regressor', 'Linear Regression', 'XGBoost', 'Stacking Regressor' ],\r\n",
        "            'TrainRMSE': [0.3859, 0.1121, 0.1122, 0.1127],\r\n",
        "            'TestRMSE': [0.4188, 0.1194, 0.1189, 0.1164],\r\n",
        "            '%_Inc_Last_Mod': ['N/A', '71.5%', '0.4%', '2.1%'],\r\n",
        "            '%_Inc_Base_Mod': ['N/A', '71.5%', '71.6%', '72.2%']\r\n",
        "            }\r\n",
        "fin_tabl = pd.DataFrame(data=fin_tabl)\r\n",
        "fin_tabl"
      ],
      "execution_count": 17,
      "outputs": [
        {
          "output_type": "execute_result",
          "data": {
            "text/html": [
              "<div>\n",
              "<style scoped>\n",
              "    .dataframe tbody tr th:only-of-type {\n",
              "        vertical-align: middle;\n",
              "    }\n",
              "\n",
              "    .dataframe tbody tr th {\n",
              "        vertical-align: top;\n",
              "    }\n",
              "\n",
              "    .dataframe thead th {\n",
              "        text-align: right;\n",
              "    }\n",
              "</style>\n",
              "<table border=\"1\" class=\"dataframe\">\n",
              "  <thead>\n",
              "    <tr style=\"text-align: right;\">\n",
              "      <th></th>\n",
              "      <th>Model</th>\n",
              "      <th>TrainRMSE</th>\n",
              "      <th>TestRMSE</th>\n",
              "      <th>%_Inc_Last_Mod</th>\n",
              "      <th>%_Inc_Base_Mod</th>\n",
              "    </tr>\n",
              "  </thead>\n",
              "  <tbody>\n",
              "    <tr>\n",
              "      <th>0</th>\n",
              "      <td>Dummy Regressor</td>\n",
              "      <td>0.3859</td>\n",
              "      <td>0.4188</td>\n",
              "      <td>N/A</td>\n",
              "      <td>N/A</td>\n",
              "    </tr>\n",
              "    <tr>\n",
              "      <th>1</th>\n",
              "      <td>Linear Regression</td>\n",
              "      <td>0.1121</td>\n",
              "      <td>0.1194</td>\n",
              "      <td>71.5%</td>\n",
              "      <td>71.5%</td>\n",
              "    </tr>\n",
              "    <tr>\n",
              "      <th>2</th>\n",
              "      <td>XGBoost</td>\n",
              "      <td>0.1122</td>\n",
              "      <td>0.1189</td>\n",
              "      <td>0.4%</td>\n",
              "      <td>71.6%</td>\n",
              "    </tr>\n",
              "    <tr>\n",
              "      <th>3</th>\n",
              "      <td>Stacking Regressor</td>\n",
              "      <td>0.1127</td>\n",
              "      <td>0.1164</td>\n",
              "      <td>2.1%</td>\n",
              "      <td>72.2%</td>\n",
              "    </tr>\n",
              "  </tbody>\n",
              "</table>\n",
              "</div>"
            ],
            "text/plain": [
              "                Model  TrainRMSE  TestRMSE %_Inc_Last_Mod %_Inc_Base_Mod\n",
              "0     Dummy Regressor     0.3859    0.4188            N/A            N/A\n",
              "1   Linear Regression     0.1121    0.1194          71.5%          71.5%\n",
              "2             XGBoost     0.1122    0.1189           0.4%          71.6%\n",
              "3  Stacking Regressor     0.1127    0.1164           2.1%          72.2%"
            ]
          },
          "metadata": {
            "tags": []
          },
          "execution_count": 17
        }
      ]
    },
    {
      "cell_type": "code",
      "metadata": {
        "colab": {
          "base_uri": "https://localhost:8080/"
        },
        "id": "Fcyta-athmrD",
        "outputId": "d26cfc40-dc00-439d-ab60-939c79e9e2cf"
      },
      "source": [
        "1 - .1164/.4188"
      ],
      "execution_count": 11,
      "outputs": [
        {
          "output_type": "execute_result",
          "data": {
            "text/plain": [
              "0.7220630372492837"
            ]
          },
          "metadata": {
            "tags": []
          },
          "execution_count": 11
        }
      ]
    },
    {
      "cell_type": "code",
      "metadata": {
        "colab": {
          "base_uri": "https://localhost:8080/"
        },
        "id": "vUsAW_IPhdHd",
        "outputId": "e959b3ab-6df5-4e94-d645-dc87423b54c2"
      },
      "source": [
        "1 - .1189/.4188"
      ],
      "execution_count": 10,
      "outputs": [
        {
          "output_type": "execute_result",
          "data": {
            "text/plain": [
              "0.7160936007640879"
            ]
          },
          "metadata": {
            "tags": []
          },
          "execution_count": 10
        }
      ]
    },
    {
      "cell_type": "code",
      "metadata": {
        "colab": {
          "base_uri": "https://localhost:8080/"
        },
        "id": "72oKmQqUgGYH",
        "outputId": "62311b26-fa0b-41d4-c7d5-e5d2153d0369"
      },
      "source": [
        "1 - .1194/.4188"
      ],
      "execution_count": 6,
      "outputs": [
        {
          "output_type": "execute_result",
          "data": {
            "text/plain": [
              "0.7148997134670487"
            ]
          },
          "metadata": {
            "tags": []
          },
          "execution_count": 6
        }
      ]
    },
    {
      "cell_type": "code",
      "metadata": {
        "colab": {
          "base_uri": "https://localhost:8080/"
        },
        "id": "3kLdOqMHw69c",
        "outputId": "99d4ea91-05a4-4e30-cab7-c8a77613c2b6"
      },
      "source": [
        "1 - .1189/.1194"
      ],
      "execution_count": null,
      "outputs": [
        {
          "output_type": "execute_result",
          "data": {
            "text/plain": [
              "0.0041876046901172526"
            ]
          },
          "metadata": {
            "tags": []
          },
          "execution_count": 11
        }
      ]
    },
    {
      "cell_type": "code",
      "metadata": {
        "colab": {
          "base_uri": "https://localhost:8080/"
        },
        "id": "yIc-2kLwxv82",
        "outputId": "1bf919cb-a870-4e07-a8d2-b1174b466d6c"
      },
      "source": [
        "1 - .1164/.1189"
      ],
      "execution_count": null,
      "outputs": [
        {
          "output_type": "execute_result",
          "data": {
            "text/plain": [
              "0.021026072329688783"
            ]
          },
          "metadata": {
            "tags": []
          },
          "execution_count": 12
        }
      ]
    },
    {
      "cell_type": "code",
      "metadata": {
        "id": "zMxUv4v-RK0W",
        "colab": {
          "base_uri": "https://localhost:8080/"
        },
        "outputId": "b5f490d3-b35c-4e9e-ec6e-e57eb96b7192"
      },
      "source": [
        "1 - .1164/.1180"
      ],
      "execution_count": null,
      "outputs": [
        {
          "output_type": "execute_result",
          "data": {
            "text/plain": [
              "0.013559322033898202"
            ]
          },
          "metadata": {
            "tags": []
          },
          "execution_count": 14
        }
      ]
    },
    {
      "cell_type": "code",
      "metadata": {
        "colab": {
          "base_uri": "https://localhost:8080/"
        },
        "id": "W0q20Fy7yKrs",
        "outputId": "9ac30ce6-3a0d-44ec-e45a-34453818db0f"
      },
      "source": [
        "1 - .1164/.4188"
      ],
      "execution_count": null,
      "outputs": [
        {
          "output_type": "execute_result",
          "data": {
            "text/plain": [
              "0.7220630372492837"
            ]
          },
          "metadata": {
            "tags": []
          },
          "execution_count": 6
        }
      ]
    }
  ]
}