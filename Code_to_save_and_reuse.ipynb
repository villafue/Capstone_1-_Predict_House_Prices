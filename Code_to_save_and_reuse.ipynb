{
  "nbformat": 4,
  "nbformat_minor": 0,
  "metadata": {
    "colab": {
      "name": "Code to save and reuse.ipynb",
      "provenance": [],
      "collapsed_sections": [],
      "authorship_tag": "ABX9TyNcs62gBy3WND4HWfGQrwPj",
      "include_colab_link": true
    },
    "kernelspec": {
      "name": "python3",
      "display_name": "Python 3"
    }
  },
  "cells": [
    {
      "cell_type": "markdown",
      "metadata": {
        "id": "view-in-github",
        "colab_type": "text"
      },
      "source": [
        "<a href=\"https://colab.research.google.com/github/villafue/Capstone_1-_Predict_House_Prices/blob/master/Code_to_save_and_reuse.ipynb\" target=\"_parent\"><img src=\"https://colab.research.google.com/assets/colab-badge.svg\" alt=\"Open In Colab\"/></a>"
      ]
    },
    {
      "cell_type": "markdown",
      "metadata": {
        "id": "9Tf6iW7cyapZ"
      },
      "source": [
        "Imports"
      ]
    },
    {
      "cell_type": "code",
      "metadata": {
        "id": "6eQ4f7gFyZxt"
      },
      "source": [
        "import os\n",
        "import seaborn as sns\n",
        "import numpy as np\n",
        "import matplotlib.plt as plt\n",
        "import pandas as pd\n",
        "from IPython.display import display\n",
        "pd.set_option('display.notebook_repr_html', True)"
      ],
      "execution_count": null,
      "outputs": []
    },
    {
      "cell_type": "code",
      "metadata": {
        "id": "VSbLfqaCXq3o"
      },
      "source": [
        "plt.rcParams.update(plt.rcParamsDefault)\n",
        "%matplotlib inline\n",
        "plt.style.use(['seaborn-whitegrid'])"
      ],
      "execution_count": null,
      "outputs": []
    },
    {
      "cell_type": "code",
      "metadata": {
        "id": "xMkjUEROttnM"
      },
      "source": [
        "print('\\n', '-' * 136)"
      ],
      "execution_count": null,
      "outputs": []
    },
    {
      "cell_type": "code",
      "metadata": {
        "id": "-OMykEHNOEIT"
      },
      "source": [
        "os.chdir('sample_data')"
      ],
      "execution_count": null,
      "outputs": []
    },
    {
      "cell_type": "code",
      "metadata": {
        "id": "_iSinEME5O7L"
      },
      "source": [
        "# This first set of packages include Pandas, for data manipulation, numpy for mathematical computation and matplotlib & seaborn, for visualisation.\n",
        "import pandas as pd\n",
        "import numpy as np\n",
        "from IPython.display import display\n",
        "import matplotlib.pyplot as plt\n",
        "import seaborn as sns\n",
        "%matplotlib inline\n",
        "sns.set(style='white', context='notebook', palette='deep')\n",
        "print('Data Manipulation, Mathematical Computation and Visualisation packages imported!')\n",
        "\n",
        "# Statistical packages used for transformations\n",
        "from scipy import stats\n",
        "from scipy.stats import skew, norm\n",
        "from scipy.special import boxcox1p\n",
        "from scipy.stats.stats import pearsonr\n",
        "print('Statistical packages imported!')\n",
        "\n",
        "# Metrics used for measuring the accuracy and performance of the models\n",
        "#from sklearn import metrics\n",
        "#from sklearn.metrics import mean_squared_error\n",
        "print('Metrics packages imported!')\n",
        "\n",
        "# Algorithms used for modeling\n",
        "from sklearn.linear_model import ElasticNet, Lasso,  BayesianRidge, LassoLarsIC\n",
        "from sklearn.ensemble import RandomForestRegressor,  GradientBoostingRegressor, ExtraTreesRegressor\n",
        "from sklearn.kernel_ridge import KernelRidge\n",
        "import xgboost as xgb\n",
        "print('Algorithm packages imported!')\n",
        "\n",
        "# Pipeline and scaling preprocessing will be used for models that are sensitive\n",
        "from sklearn.pipeline import make_pipeline\n",
        "from sklearn.preprocessing import RobustScaler\n",
        "from sklearn.preprocessing import StandardScaler\n",
        "from sklearn.preprocessing import LabelEncoder\n",
        "from sklearn.feature_selection import SelectFromModel\n",
        "from sklearn.feature_selection import SelectKBest\n",
        "from sklearn.feature_selection import chi2\n",
        "print('Pipeline and preprocessing packages imported!')\n",
        "\n",
        "# Model selection packages used for sampling dataset and optimising parameters\n",
        "from sklearn import model_selection\n",
        "from sklearn.model_selection import KFold\n",
        "from sklearn.model_selection import cross_val_score, train_test_split\n",
        "from sklearn.model_selection import GridSearchCV\n",
        "from sklearn.model_selection import ShuffleSplit\n",
        "print('Model selection packages imported!')\n",
        "\n",
        "# Set visualisation colours\n",
        "mycols = [\"#66c2ff\", \"#5cd6d6\", \"#00cc99\", \"#85e085\", \"#ffd966\", \"#ffb366\", \"#ffb3b3\", \"#dab3ff\", \"#c2c2d6\"]\n",
        "sns.set_palette(palette = mycols, n_colors = 4)\n",
        "print('My colours are ready! :)')\n",
        "\n",
        "# To ignore annoying warning\n",
        "import warnings\n",
        "def ignore_warn(*args, **kwargs):\n",
        "    pass\n",
        "warnings.warn = ignore_warn #ignore annoying warning (from sklearn and seaborn)\n",
        "warnings.filterwarnings(\"ignore\", category=DeprecationWarning)\n",
        "print('Deprecation warning will be ignored!')"
      ],
      "execution_count": null,
      "outputs": []
    }
  ]
}